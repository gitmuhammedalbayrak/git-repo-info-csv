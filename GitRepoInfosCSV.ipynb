{
  "nbformat": 4,
  "nbformat_minor": 0,
  "metadata": {
    "colab": {
      "provenance": [],
      "authorship_tag": "ABX9TyOaokZalSTuER8q9WsY8xE8"
    },
    "kernelspec": {
      "name": "python3",
      "display_name": "Python 3"
    },
    "language_info": {
      "name": "python"
    }
  },
  "cells": [
    {
      "cell_type": "code",
      "source": [
        "import requests\n",
        "import csv\n"
      ],
      "metadata": {
        "id": "9hWLNJIXowTj"
      },
      "execution_count": 3,
      "outputs": []
    },
    {
      "cell_type": "code",
      "source": [
        "# GitHub kullanıcı adını buraya yaz\n",
        "username = \"gitmuhammedalbayrak\"\n",
        "\n",
        "# GitHub API URL'si\n",
        "url = f\"https://api.github.com/users/{username}/repos\"\n",
        "\n",
        "# API'den verileri çek\n",
        "response = requests.get(url)\n",
        "repos = response.json()"
      ],
      "metadata": {
        "id": "xv7Rf_jFoyO2"
      },
      "execution_count": 4,
      "outputs": []
    },
    {
      "cell_type": "code",
      "execution_count": 5,
      "metadata": {
        "id": "EmGKxcMJoeGP"
      },
      "outputs": [],
      "source": [
        "# CSV dosyasına yazma\n",
        "with open('github_repos.csv', mode='w', newline='', encoding='utf-8') as file:\n",
        "    writer = csv.writer(file)\n",
        "\n",
        "    # CSV başlıkları\n",
        "    writer.writerow(['Repo Adı', 'Açıklama', 'Dil', 'Yıldız Sayısı', 'Fork Sayısı', 'URL'])\n",
        "\n",
        "    # Her repo için bilgileri yaz\n",
        "    for repo in repos:\n",
        "        writer.writerow([repo['name'], repo['description'], repo['language'], repo['stargazers_count'], repo['forks_count'], repo['html_url']])"
      ]
    },
    {
      "cell_type": "code",
      "source": [
        "print(\"Repo bilgileri github_repos.csv dosyasına yazıldı.\")"
      ],
      "metadata": {
        "id": "6xx3WlBgo2Z9",
        "colab": {
          "base_uri": "https://localhost:8080/"
        },
        "outputId": "dc42da30-9cae-4e5c-9c36-63f95d703191"
      },
      "execution_count": 6,
      "outputs": [
        {
          "output_type": "stream",
          "name": "stdout",
          "text": [
            "Repo bilgileri github_repos.csv dosyasına yazıldı.\n"
          ]
        }
      ]
    }
  ]
}